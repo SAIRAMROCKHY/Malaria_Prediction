{
  "cells": [
    {
      "cell_type": "markdown",
      "metadata": {
        "id": "41Ss4s_Wbh0d"
      },
      "source": [
        "## Creating CNN Using Scratch And Transfer Learning"
      ]
    },
    {
      "cell_type": "code",
      "execution_count": null,
      "metadata": {
        "colab": {
          "base_uri": "https://localhost:8080/"
        },
        "id": "DfRyQWCnd3uQ",
        "outputId": "30db0f17-7f3a-4c6e-c106-1a16213c96b2"
      },
      "outputs": [
        {
          "name": "stdout",
          "output_type": "stream",
          "text": [
            "Mounted at /content/drive\n"
          ]
        }
      ],
      "source": [
        "from google.colab import drive\n",
        "drive.mount('/content/drive')"
      ]
    },
    {
      "cell_type": "markdown",
      "metadata": {
        "id": "MmTp9CV4bh0l"
      },
      "source": [
        "Please download the dataset from the below url"
      ]
    },
    {
      "cell_type": "code",
      "execution_count": null,
      "metadata": {
        "id": "VzWc04tTbh0n"
      },
      "outputs": [],
      "source": [
        "# import the libraries as shown below\n",
        "\n",
        "from tensorflow.keras.layers import Input, Lambda, Dense, Flatten,Conv2D\n",
        "from tensorflow.keras.models import Model\n",
        "from tensorflow.keras.applications.vgg19 import VGG19\n",
        "from tensorflow.keras.applications.resnet50 import preprocess_input\n",
        "from tensorflow.keras.preprocessing import image\n",
        "from tensorflow.keras.preprocessing.image import ImageDataGenerator,load_img\n",
        "from tensorflow.keras.models import Sequential\n",
        "import numpy as np\n",
        "from glob import glob\n",
        "import matplotlib.pyplot as plt"
      ]
    },
    {
      "cell_type": "code",
      "execution_count": null,
      "metadata": {
        "id": "KSDnkd5pbh0q"
      },
      "outputs": [],
      "source": [
        "# re-size all the images to this\n",
        "IMAGE_SIZE = [224, 224]\n",
        "\n",
        "train_path = '/content/drive/MyDrive/Dataset/Train'\n",
        "valid_path = '/content/drive/MyDrive/Dataset/Test'\n"
      ]
    },
    {
      "cell_type": "code",
      "execution_count": null,
      "metadata": {
        "colab": {
          "base_uri": "https://localhost:8080/"
        },
        "id": "VEQ04PNmbh0q",
        "outputId": "da5dc0b0-d619-4b1f-e264-84678a07d4db"
      },
      "outputs": [
        {
          "name": "stdout",
          "output_type": "stream",
          "text": [
            "Downloading data from https://storage.googleapis.com/tensorflow/keras-applications/vgg19/vgg19_weights_tf_dim_ordering_tf_kernels_notop.h5\n",
            "80134624/80134624 [==============================] - 0s 0us/step\n"
          ]
        }
      ],
      "source": [
        "# Import the Vgg 16 library as shown below and add preprocessing layer to the front of VGG\n",
        "# Here we will be using imagenet weights\n",
        "\n",
        "mobilnet = VGG19(input_shape=IMAGE_SIZE + [3], weights='imagenet', include_top=False)"
      ]
    },
    {
      "cell_type": "code",
      "execution_count": null,
      "metadata": {
        "id": "Gm-G6gFRbh0s"
      },
      "outputs": [],
      "source": [
        "# don't train existing weights\n",
        "for layer in mobilnet.layers:\n",
        "    layer.trainable = False"
      ]
    },
    {
      "cell_type": "code",
      "execution_count": null,
      "metadata": {
        "id": "yPPxh4nWbh0t"
      },
      "outputs": [],
      "source": [
        "  # useful for getting number of output classes\n",
        "folders = glob('/content/drive/MyDrive/Dataset/Train')"
      ]
    },
    {
      "cell_type": "code",
      "execution_count": null,
      "metadata": {
        "colab": {
          "base_uri": "https://localhost:8080/"
        },
        "id": "oHEpX7Mzbh0v",
        "outputId": "4d46b479-08eb-45e6-afc8-04a122ac533d"
      },
      "outputs": [
        {
          "data": {
            "text/plain": [
              "['/content/drive/MyDrive/Dataset/Train']"
            ]
          },
          "execution_count": 7,
          "metadata": {},
          "output_type": "execute_result"
        }
      ],
      "source": [
        "folders"
      ]
    },
    {
      "cell_type": "code",
      "execution_count": null,
      "metadata": {
        "id": "Cla_U2rIbh0x"
      },
      "outputs": [],
      "source": [
        "# our layers - you can add more if you want\n",
        "x = Flatten()(mobilnet.output)"
      ]
    },
    {
      "cell_type": "code",
      "execution_count": null,
      "metadata": {
        "id": "zhDvcFyzbh0y"
      },
      "outputs": [],
      "source": [
        "prediction = Dense(len(folders), activation='softmax')(x)\n",
        "\n",
        "# create a model object\n",
        "model = Model(inputs=mobilnet.input, outputs=prediction)"
      ]
    },
    {
      "cell_type": "code",
      "execution_count": null,
      "metadata": {
        "colab": {
          "base_uri": "https://localhost:8080/"
        },
        "id": "4e0h6Davbh0z",
        "outputId": "9b311035-18c7-4d17-8f77-f29187e83520"
      },
      "outputs": [
        {
          "name": "stdout",
          "output_type": "stream",
          "text": [
            "Model: \"model\"\n",
            "_________________________________________________________________\n",
            " Layer (type)                Output Shape              Param #   \n",
            "=================================================================\n",
            " input_1 (InputLayer)        [(None, 224, 224, 3)]     0         \n",
            "                                                                 \n",
            " block1_conv1 (Conv2D)       (None, 224, 224, 64)      1792      \n",
            "                                                                 \n",
            " block1_conv2 (Conv2D)       (None, 224, 224, 64)      36928     \n",
            "                                                                 \n",
            " block1_pool (MaxPooling2D)  (None, 112, 112, 64)      0         \n",
            "                                                                 \n",
            " block2_conv1 (Conv2D)       (None, 112, 112, 128)     73856     \n",
            "                                                                 \n",
            " block2_conv2 (Conv2D)       (None, 112, 112, 128)     147584    \n",
            "                                                                 \n",
            " block2_pool (MaxPooling2D)  (None, 56, 56, 128)       0         \n",
            "                                                                 \n",
            " block3_conv1 (Conv2D)       (None, 56, 56, 256)       295168    \n",
            "                                                                 \n",
            " block3_conv2 (Conv2D)       (None, 56, 56, 256)       590080    \n",
            "                                                                 \n",
            " block3_conv3 (Conv2D)       (None, 56, 56, 256)       590080    \n",
            "                                                                 \n",
            " block3_conv4 (Conv2D)       (None, 56, 56, 256)       590080    \n",
            "                                                                 \n",
            " block3_pool (MaxPooling2D)  (None, 28, 28, 256)       0         \n",
            "                                                                 \n",
            " block4_conv1 (Conv2D)       (None, 28, 28, 512)       1180160   \n",
            "                                                                 \n",
            " block4_conv2 (Conv2D)       (None, 28, 28, 512)       2359808   \n",
            "                                                                 \n",
            " block4_conv3 (Conv2D)       (None, 28, 28, 512)       2359808   \n",
            "                                                                 \n",
            " block4_conv4 (Conv2D)       (None, 28, 28, 512)       2359808   \n",
            "                                                                 \n",
            " block4_pool (MaxPooling2D)  (None, 14, 14, 512)       0         \n",
            "                                                                 \n",
            " block5_conv1 (Conv2D)       (None, 14, 14, 512)       2359808   \n",
            "                                                                 \n",
            " block5_conv2 (Conv2D)       (None, 14, 14, 512)       2359808   \n",
            "                                                                 \n",
            " block5_conv3 (Conv2D)       (None, 14, 14, 512)       2359808   \n",
            "                                                                 \n",
            " block5_conv4 (Conv2D)       (None, 14, 14, 512)       2359808   \n",
            "                                                                 \n",
            " block5_pool (MaxPooling2D)  (None, 7, 7, 512)         0         \n",
            "                                                                 \n",
            " flatten (Flatten)           (None, 25088)             0         \n",
            "                                                                 \n",
            " dense (Dense)               (None, 1)                 25089     \n",
            "                                                                 \n",
            "=================================================================\n",
            "Total params: 20049473 (76.48 MB)\n",
            "Trainable params: 25089 (98.00 KB)\n",
            "Non-trainable params: 20024384 (76.39 MB)\n",
            "_________________________________________________________________\n"
          ]
        }
      ],
      "source": [
        "\n",
        "# view the structure of the model\n",
        "model.summary()\n"
      ]
    },
    {
      "cell_type": "code",
      "execution_count": null,
      "metadata": {
        "id": "W83lnYs7bh00"
      },
      "outputs": [],
      "source": [
        "from tensorflow.keras.layers import MaxPooling2D"
      ]
    },
    {
      "cell_type": "code",
      "execution_count": null,
      "metadata": {
        "colab": {
          "base_uri": "https://localhost:8080/"
        },
        "id": "D-yqlFVfbh01",
        "outputId": "5958cf2f-6a14-4bfa-b932-58dbeb285b52"
      },
      "outputs": [
        {
          "name": "stdout",
          "output_type": "stream",
          "text": [
            "Model: \"sequential\"\n",
            "_________________________________________________________________\n",
            " Layer (type)                Output Shape              Param #   \n",
            "=================================================================\n",
            " conv2d (Conv2D)             (None, 224, 224, 16)      208       \n",
            "                                                                 \n",
            " max_pooling2d (MaxPooling2  (None, 112, 112, 16)      0         \n",
            " D)                                                              \n",
            "                                                                 \n",
            " conv2d_1 (Conv2D)           (None, 112, 112, 32)      2080      \n",
            "                                                                 \n",
            " max_pooling2d_1 (MaxPoolin  (None, 56, 56, 32)        0         \n",
            " g2D)                                                            \n",
            "                                                                 \n",
            " conv2d_2 (Conv2D)           (None, 56, 56, 64)        8256      \n",
            "                                                                 \n",
            " max_pooling2d_2 (MaxPoolin  (None, 28, 28, 64)        0         \n",
            " g2D)                                                            \n",
            "                                                                 \n",
            " flatten_1 (Flatten)         (None, 50176)             0         \n",
            "                                                                 \n",
            " dense_1 (Dense)             (None, 500)               25088500  \n",
            "                                                                 \n",
            " dense_2 (Dense)             (None, 2)                 1002      \n",
            "                                                                 \n",
            "=================================================================\n",
            "Total params: 25100046 (95.75 MB)\n",
            "Trainable params: 25100046 (95.75 MB)\n",
            "Non-trainable params: 0 (0.00 Byte)\n",
            "_________________________________________________________________\n"
          ]
        }
      ],
      "source": [
        "### Create Model from scratch using CNN\n",
        "model=Sequential()\n",
        "model.add(Conv2D(filters=16,kernel_size=2,padding=\"same\",activation=\"relu\",input_shape=(224,224,3)))\n",
        "model.add(MaxPooling2D(pool_size=2))\n",
        "model.add(Conv2D(filters=32,kernel_size=2,padding=\"same\",activation =\"relu\"))\n",
        "model.add(MaxPooling2D(pool_size=2))\n",
        "model.add(Conv2D(filters=64,kernel_size=2,padding=\"same\",activation=\"relu\"))\n",
        "model.add(MaxPooling2D(pool_size=2))\n",
        "model.add(Flatten())\n",
        "model.add(Dense(500,activation=\"relu\"))\n",
        "model.add(Dense(2,activation=\"softmax\"))\n",
        "model.summary()"
      ]
    },
    {
      "cell_type": "code",
      "execution_count": null,
      "metadata": {
        "id": "uhfeJAMBbh02"
      },
      "outputs": [],
      "source": [
        "# tell the model what cost and optimization method to use\n",
        "model.compile(\n",
        "  loss='categorical_crossentropy',\n",
        "  optimizer='adam',\n",
        "  metrics=['accuracy']\n",
        ")\n"
      ]
    },
    {
      "cell_type": "code",
      "execution_count": null,
      "metadata": {
        "id": "-oZPHuSObh03"
      },
      "outputs": [],
      "source": [
        "# Use the Image Data Generator to import the images from the dataset\n",
        "from tensorflow.keras.preprocessing.image import ImageDataGenerator\n",
        "\n",
        "train_datagen = ImageDataGenerator(rescale = 1./255,\n",
        "                                   shear_range = 0.2,\n",
        "                                   zoom_range = 0.2,\n",
        "                                   horizontal_flip = True)\n",
        "\n",
        "test_datagen = ImageDataGenerator(rescale = 1./255)"
      ]
    },
    {
      "cell_type": "code",
      "execution_count": null,
      "metadata": {
        "colab": {
          "base_uri": "https://localhost:8080/"
        },
        "id": "YPfrIYugbh03",
        "outputId": "0e25cfe9-3126-49ea-ad76-9d07a1d981f9"
      },
      "outputs": [
        {
          "name": "stdout",
          "output_type": "stream",
          "text": [
            "Found 416 images belonging to 2 classes.\n"
          ]
        }
      ],
      "source": [
        "# Make sure you provide the same target size as initialied for the image size\n",
        "training_set = train_datagen.flow_from_directory('/content/drive/MyDrive/Dataset/Train',\n",
        "                                                 target_size = (224, 224),\n",
        "                                                 batch_size = 32,\n",
        "                                                 class_mode = 'categorical')"
      ]
    },
    {
      "cell_type": "code",
      "execution_count": null,
      "metadata": {
        "colab": {
          "base_uri": "https://localhost:8080/"
        },
        "id": "yP0qC9rpbh04",
        "outputId": "18f57571-ff4e-4d00-f64a-36058e84ddce"
      },
      "outputs": [
        {
          "data": {
            "text/plain": [
              "<keras.src.preprocessing.image.DirectoryIterator at 0x7b43a23393c0>"
            ]
          },
          "execution_count": 16,
          "metadata": {},
          "output_type": "execute_result"
        }
      ],
      "source": [
        "training_set"
      ]
    },
    {
      "cell_type": "code",
      "execution_count": null,
      "metadata": {
        "colab": {
          "base_uri": "https://localhost:8080/"
        },
        "id": "X92eQyB6bh05",
        "outputId": "9aefe91b-6676-4fc7-e214-16a6e261e141"
      },
      "outputs": [
        {
          "name": "stdout",
          "output_type": "stream",
          "text": [
            "Found 134 images belonging to 2 classes.\n"
          ]
        }
      ],
      "source": [
        "test_set = test_datagen.flow_from_directory('/content/drive/MyDrive/Dataset/Test',\n",
        "                                            target_size = (224, 224),\n",
        "                                            batch_size = 32,\n",
        "                                            class_mode = 'categorical')"
      ]
    },
    {
      "cell_type": "code",
      "execution_count": null,
      "metadata": {
        "colab": {
          "base_uri": "https://localhost:8080/"
        },
        "id": "IvSxZKzmbh05",
        "outputId": "21b13a57-81dc-4fa5-e223-0a4550b3ba82",
        "scrolled": true
      },
      "outputs": [
        {
          "name": "stderr",
          "output_type": "stream",
          "text": [
            "<ipython-input-18-69229fe26ea3>:3: UserWarning: `Model.fit_generator` is deprecated and will be removed in a future version. Please use `Model.fit`, which supports generators.\n",
            "  r = model.fit_generator(\n"
          ]
        },
        {
          "name": "stdout",
          "output_type": "stream",
          "text": [
            "Epoch 1/50\n",
            "13/13 [==============================] - 117s 8s/step - loss: 1.3604 - accuracy: 0.5240 - val_loss: 0.6419 - val_accuracy: 0.6791\n",
            "Epoch 2/50\n",
            "13/13 [==============================] - 5s 406ms/step - loss: 0.6943 - accuracy: 0.5385 - val_loss: 0.6785 - val_accuracy: 0.6791\n",
            "Epoch 3/50\n",
            "13/13 [==============================] - 5s 402ms/step - loss: 0.5820 - accuracy: 0.7043 - val_loss: 0.7849 - val_accuracy: 0.5299\n",
            "Epoch 4/50\n",
            "13/13 [==============================] - 7s 536ms/step - loss: 0.4938 - accuracy: 0.7620 - val_loss: 0.9536 - val_accuracy: 0.6418\n",
            "Epoch 5/50\n",
            "13/13 [==============================] - 5s 401ms/step - loss: 0.5261 - accuracy: 0.7236 - val_loss: 1.2053 - val_accuracy: 0.3433\n",
            "Epoch 6/50\n",
            "13/13 [==============================] - 6s 439ms/step - loss: 0.4238 - accuracy: 0.7788 - val_loss: 0.8254 - val_accuracy: 0.4776\n",
            "Epoch 7/50\n",
            "13/13 [==============================] - 6s 460ms/step - loss: 0.3521 - accuracy: 0.8462 - val_loss: 0.7855 - val_accuracy: 0.5299\n",
            "Epoch 8/50\n",
            "13/13 [==============================] - 7s 537ms/step - loss: 0.3137 - accuracy: 0.8486 - val_loss: 0.7577 - val_accuracy: 0.5896\n",
            "Epoch 9/50\n",
            "13/13 [==============================] - 5s 396ms/step - loss: 0.2859 - accuracy: 0.8774 - val_loss: 0.6798 - val_accuracy: 0.6418\n",
            "Epoch 10/50\n",
            "13/13 [==============================] - 6s 483ms/step - loss: 0.2476 - accuracy: 0.9038 - val_loss: 0.7365 - val_accuracy: 0.6642\n",
            "Epoch 11/50\n",
            "13/13 [==============================] - 5s 402ms/step - loss: 0.2291 - accuracy: 0.9207 - val_loss: 0.3827 - val_accuracy: 0.8284\n",
            "Epoch 12/50\n",
            "13/13 [==============================] - 7s 537ms/step - loss: 0.1987 - accuracy: 0.9303 - val_loss: 0.4385 - val_accuracy: 0.8060\n",
            "Epoch 13/50\n",
            "13/13 [==============================] - 5s 403ms/step - loss: 0.1615 - accuracy: 0.9567 - val_loss: 0.4356 - val_accuracy: 0.8209\n",
            "Epoch 14/50\n",
            "13/13 [==============================] - 6s 505ms/step - loss: 0.1548 - accuracy: 0.9447 - val_loss: 0.4384 - val_accuracy: 0.8209\n",
            "Epoch 15/50\n",
            "13/13 [==============================] - 5s 399ms/step - loss: 0.1279 - accuracy: 0.9567 - val_loss: 0.3914 - val_accuracy: 0.8358\n",
            "Epoch 16/50\n",
            "13/13 [==============================] - 6s 431ms/step - loss: 0.1060 - accuracy: 0.9736 - val_loss: 0.5059 - val_accuracy: 0.8134\n",
            "Epoch 17/50\n",
            "13/13 [==============================] - 5s 401ms/step - loss: 0.0912 - accuracy: 0.9736 - val_loss: 0.4668 - val_accuracy: 0.8358\n",
            "Epoch 18/50\n",
            "13/13 [==============================] - 7s 537ms/step - loss: 0.1184 - accuracy: 0.9591 - val_loss: 0.2424 - val_accuracy: 0.9179\n",
            "Epoch 19/50\n",
            "13/13 [==============================] - 5s 417ms/step - loss: 0.0745 - accuracy: 0.9832 - val_loss: 0.3471 - val_accuracy: 0.8507\n",
            "Epoch 20/50\n",
            "13/13 [==============================] - 6s 429ms/step - loss: 0.0863 - accuracy: 0.9736 - val_loss: 0.2694 - val_accuracy: 0.8806\n",
            "Epoch 21/50\n",
            "13/13 [==============================] - 5s 405ms/step - loss: 0.0792 - accuracy: 0.9808 - val_loss: 0.3647 - val_accuracy: 0.8582\n",
            "Epoch 22/50\n",
            "13/13 [==============================] - 7s 543ms/step - loss: 0.0654 - accuracy: 0.9856 - val_loss: 0.2322 - val_accuracy: 0.9030\n",
            "Epoch 23/50\n",
            "13/13 [==============================] - 5s 400ms/step - loss: 0.0562 - accuracy: 0.9808 - val_loss: 0.3012 - val_accuracy: 0.8657\n",
            "Epoch 24/50\n",
            "13/13 [==============================] - 7s 534ms/step - loss: 0.0388 - accuracy: 0.9880 - val_loss: 0.2414 - val_accuracy: 0.9179\n",
            "Epoch 25/50\n",
            "13/13 [==============================] - 5s 404ms/step - loss: 0.0673 - accuracy: 0.9784 - val_loss: 0.2660 - val_accuracy: 0.8881\n",
            "Epoch 26/50\n",
            "13/13 [==============================] - 6s 438ms/step - loss: 0.0703 - accuracy: 0.9880 - val_loss: 0.5322 - val_accuracy: 0.8358\n",
            "Epoch 27/50\n",
            "13/13 [==============================] - 5s 399ms/step - loss: 0.1039 - accuracy: 0.9663 - val_loss: 0.7151 - val_accuracy: 0.8209\n",
            "Epoch 28/50\n",
            "13/13 [==============================] - 5s 408ms/step - loss: 0.0679 - accuracy: 0.9760 - val_loss: 0.3738 - val_accuracy: 0.8881\n",
            "Epoch 29/50\n",
            "13/13 [==============================] - 7s 543ms/step - loss: 0.0997 - accuracy: 0.9688 - val_loss: 0.4004 - val_accuracy: 0.8433\n",
            "Epoch 30/50\n",
            "13/13 [==============================] - 5s 399ms/step - loss: 0.0717 - accuracy: 0.9808 - val_loss: 0.2962 - val_accuracy: 0.9030\n",
            "Epoch 31/50\n",
            "13/13 [==============================] - 7s 542ms/step - loss: 0.0468 - accuracy: 0.9832 - val_loss: 0.3086 - val_accuracy: 0.8881\n",
            "Epoch 32/50\n",
            "13/13 [==============================] - 5s 417ms/step - loss: 0.0491 - accuracy: 0.9880 - val_loss: 0.4423 - val_accuracy: 0.8507\n",
            "Epoch 33/50\n",
            "13/13 [==============================] - 5s 406ms/step - loss: 0.0631 - accuracy: 0.9784 - val_loss: 0.1646 - val_accuracy: 0.9328\n",
            "Epoch 34/50\n",
            "13/13 [==============================] - 7s 535ms/step - loss: 0.0553 - accuracy: 0.9856 - val_loss: 0.3169 - val_accuracy: 0.8881\n",
            "Epoch 35/50\n",
            "13/13 [==============================] - 5s 402ms/step - loss: 0.0219 - accuracy: 0.9928 - val_loss: 0.3643 - val_accuracy: 0.8881\n",
            "Epoch 36/50\n",
            "13/13 [==============================] - 6s 413ms/step - loss: 0.0310 - accuracy: 0.9904 - val_loss: 0.2080 - val_accuracy: 0.9552\n",
            "Epoch 37/50\n",
            "13/13 [==============================] - 5s 398ms/step - loss: 0.0262 - accuracy: 0.9928 - val_loss: 0.6037 - val_accuracy: 0.8507\n",
            "Epoch 38/50\n",
            "13/13 [==============================] - 5s 405ms/step - loss: 0.0536 - accuracy: 0.9880 - val_loss: 0.2795 - val_accuracy: 0.9030\n",
            "Epoch 39/50\n",
            "13/13 [==============================] - 7s 544ms/step - loss: 0.0285 - accuracy: 0.9952 - val_loss: 0.4319 - val_accuracy: 0.8881\n",
            "Epoch 40/50\n",
            "13/13 [==============================] - 5s 406ms/step - loss: 0.0373 - accuracy: 0.9928 - val_loss: 0.1604 - val_accuracy: 0.9627\n",
            "Epoch 41/50\n",
            "13/13 [==============================] - 5s 402ms/step - loss: 0.0440 - accuracy: 0.9856 - val_loss: 0.3459 - val_accuracy: 0.8806\n",
            "Epoch 42/50\n",
            "13/13 [==============================] - 5s 401ms/step - loss: 0.0240 - accuracy: 0.9928 - val_loss: 0.2425 - val_accuracy: 0.9104\n",
            "Epoch 43/50\n",
            "13/13 [==============================] - 6s 436ms/step - loss: 0.0243 - accuracy: 0.9952 - val_loss: 0.5292 - val_accuracy: 0.8657\n",
            "Epoch 44/50\n",
            "13/13 [==============================] - 5s 398ms/step - loss: 0.0282 - accuracy: 0.9928 - val_loss: 0.3188 - val_accuracy: 0.8881\n",
            "Epoch 45/50\n",
            "13/13 [==============================] - 7s 540ms/step - loss: 0.0220 - accuracy: 0.9904 - val_loss: 0.2107 - val_accuracy: 0.9478\n",
            "Epoch 46/50\n",
            "13/13 [==============================] - 5s 399ms/step - loss: 0.0430 - accuracy: 0.9928 - val_loss: 0.7194 - val_accuracy: 0.8507\n",
            "Epoch 47/50\n",
            "13/13 [==============================] - 6s 494ms/step - loss: 0.0720 - accuracy: 0.9760 - val_loss: 0.2481 - val_accuracy: 0.8881\n",
            "Epoch 48/50\n",
            "13/13 [==============================] - 5s 403ms/step - loss: 0.0363 - accuracy: 0.9928 - val_loss: 0.4125 - val_accuracy: 0.8881\n",
            "Epoch 49/50\n",
            "13/13 [==============================] - 5s 397ms/step - loss: 0.0487 - accuracy: 0.9880 - val_loss: 0.1371 - val_accuracy: 0.9701\n",
            "Epoch 50/50\n",
            "13/13 [==============================] - 6s 401ms/step - loss: 0.0461 - accuracy: 0.9928 - val_loss: 0.5651 - val_accuracy: 0.8657\n"
          ]
        }
      ],
      "source": [
        "# fit the model\n",
        "# Run the cell. It will take some time to execute\n",
        "r = model.fit_generator(\n",
        "  training_set,\n",
        "  validation_data=test_set,\n",
        "  epochs=50,\n",
        "  steps_per_epoch=len(training_set),\n",
        "  validation_steps=len(test_set)\n",
        ")"
      ]
    },
    {
      "cell_type": "code",
      "execution_count": null,
      "metadata": {
        "colab": {
          "base_uri": "https://localhost:8080/",
          "height": 860
        },
        "id": "jA87fc4gbh07",
        "outputId": "cb204f58-195d-4c21-9970-ccfc0c433c17"
      },
      "outputs": [
        {
          "data": {
            "image/png": "[encoded data removed]",
            "text/plain": [
              "<Figure size 640x480 with 1 Axes>"
            ]
          },
          "metadata": {},
          "output_type": "display_data"
        },
        {
          "data": {
            "image/png": "[encoded data removed]",
            "text/plain": [
              "<Figure size 640x480 with 1 Axes>"
            ]
          },
          "metadata": {},
          "output_type": "display_data"
        },
        {
          "data": {
            "text/plain": [
              "<Figure size 640x480 with 0 Axes>"
            ]
          },
          "metadata": {},
          "output_type": "display_data"
        }
      ],
      "source": [
        "# plot the loss\n",
        "plt.plot(r.history['loss'], label='train loss')\n",
        "plt.plot(r.history['val_loss'], label='val loss')\n",
        "plt.legend()\n",
        "plt.show()\n",
        "plt.savefig('LossVal_loss')\n",
        "\n",
        "# plot the accuracy\n",
        "plt.plot(r.history['accuracy'], label='train acc')\n",
        "plt.plot(r.history['val_accuracy'], label='val acc')\n",
        "plt.legend()\n",
        "plt.show()\n",
        "plt.savefig('AccVal_acc')"
      ]
    },
    {
      "cell_type": "code",
      "execution_count": null,
      "metadata": {
        "colab": {
          "base_uri": "https://localhost:8080/"
        },
        "id": "9NO_qC5xbh08",
        "outputId": "86b4aaf2-8978-49a3-8dfc-755a027f8509"
      },
      "outputs": [
        {
          "name": "stderr",
          "output_type": "stream",
          "text": [
            "/usr/local/lib/python3.10/dist-packages/keras/src/engine/training.py:3000: UserWarning: You are saving your model as an HDF5 file via `model.save()`. This file format is considered legacy. We recommend using instead the native Keras format, e.g. `model.save('my_model.keras')`.\n",
            "  saving_api.save_model(\n"
          ]
        }
      ],
      "source": [
        "# save it as a h5 file\n",
        "\n",
        "\n",
        "from tensorflow.keras.models import load_model\n",
        "\n",
        "model.save('/content/drive/MyDrive/Dataset/my_model.h5')"
      ]
    },
    {
      "cell_type": "code",
      "execution_count": null,
      "metadata": {
        "colab": {
          "base_uri": "https://localhost:8080/"
        },
        "id": "RnbYXd31bh09",
        "outputId": "15c2dc95-ae69-4a79-c22d-5431ad53e80a"
      },
      "outputs": [
        {
          "name": "stdout",
          "output_type": "stream",
          "text": [
            "5/5 [==============================] - 0s 67ms/step\n"
          ]
        }
      ],
      "source": [
        "\n",
        "y_pred = model.predict(test_set)\n"
      ]
    },
    {
      "cell_type": "code",
      "execution_count": null,
      "metadata": {
        "colab": {
          "base_uri": "https://localhost:8080/"
        },
        "id": "16Q6xqnxbh09",
        "outputId": "865edb5c-02a3-4756-a278-8a9b263e4b36"
      },
      "outputs": [
        {
          "data": {
            "text/plain": [
              "array([[6.77959761e-03, 9.93220329e-01],\n",
              "       [9.99937296e-01, 6.26953115e-05],\n",
              "       [1.00000000e+00, 4.25898605e-09],\n",
              "       [9.98443902e-01, 1.55612268e-03],\n",
              "       [9.96049106e-01, 3.95091251e-03],\n",
              "       [9.50317481e-04, 9.99049723e-01],\n",
              "       [2.49373470e-03, 9.97506320e-01],\n",
              "       [4.40776674e-03, 9.95592177e-01],\n",
              "       [1.00000000e+00, 6.58666499e-09],\n",
              "       [1.63716718e-03, 9.98362839e-01],\n",
              "       [9.99881148e-01, 1.18844400e-04],\n",
              "       [4.54480387e-03, 9.95455146e-01],\n",
              "       [3.36044701e-03, 9.96639490e-01],\n",
              "       [8.86146903e-01, 1.13853045e-01],\n",
              "       [9.99824226e-01, 1.75745896e-04],\n",
              "       [1.00000000e+00, 4.59858640e-08],\n",
              "       [9.91961539e-01, 8.03849101e-03],\n",
              "       [9.99184787e-01, 8.15225008e-04],\n",
              "       [5.07874088e-03, 9.94921267e-01],\n",
              "       [9.92601335e-01, 7.39869894e-03],\n",
              "       [9.99999881e-01, 1.20082220e-07],\n",
              "       [1.00746297e-03, 9.98992503e-01],\n",
              "       [9.99993563e-01, 6.40899407e-06],\n",
              "       [2.37456486e-01, 7.62543559e-01],\n",
              "       [5.96162491e-03, 9.94038343e-01],\n",
              "       [1.67838223e-02, 9.83216226e-01],\n",
              "       [9.99999642e-01, 4.07157415e-07],\n",
              "       [1.00000000e+00, 4.07904862e-17],\n",
              "       [4.31270571e-03, 9.95687306e-01],\n",
              "       [9.99361813e-01, 6.38243684e-04],\n",
              "       [9.99292493e-01, 7.07475119e-04],\n",
              "       [1.00000000e+00, 2.29144928e-17],\n",
              "       [3.36567988e-03, 9.96634305e-01],\n",
              "       [5.31074405e-01, 4.68925625e-01],\n",
              "       [7.38302665e-03, 9.92616951e-01],\n",
              "       [1.00000000e+00, 4.45283499e-09],\n",
              "       [2.54683918e-03, 9.97453153e-01],\n",
              "       [2.87336553e-03, 9.97126639e-01],\n",
              "       [1.80582739e-02, 9.81941700e-01],\n",
              "       [1.83324656e-03, 9.98166680e-01],\n",
              "       [1.83502287e-02, 9.81649816e-01],\n",
              "       [1.00000000e+00, 7.79433240e-10],\n",
              "       [9.99981284e-01, 1.87220139e-05],\n",
              "       [1.00000000e+00, 1.62915043e-10],\n",
              "       [1.00000000e+00, 9.26101403e-25],\n",
              "       [1.00000000e+00, 4.07412983e-08],\n",
              "       [3.22532817e-03, 9.96774614e-01],\n",
              "       [1.96944433e-03, 9.98030603e-01],\n",
              "       [9.99493003e-01, 5.07019286e-04],\n",
              "       [1.52980525e-03, 9.98470128e-01],\n",
              "       [8.90748017e-03, 9.91092503e-01],\n",
              "       [5.01596928e-03, 9.94984031e-01],\n",
              "       [1.00000000e+00, 7.23306692e-10],\n",
              "       [9.60244298e-01, 3.97556983e-02],\n",
              "       [1.00000000e+00, 1.03794909e-15],\n",
              "       [9.98003304e-01, 1.99673558e-03],\n",
              "       [1.62097663e-02, 9.83790219e-01],\n",
              "       [1.68123620e-03, 9.98318791e-01],\n",
              "       [1.31572934e-03, 9.98684227e-01],\n",
              "       [3.52232680e-02, 9.64776695e-01],\n",
              "       [9.99130666e-01, 8.69409356e-04],\n",
              "       [9.99999285e-01, 7.28145778e-07],\n",
              "       [4.77281678e-03, 9.95227218e-01],\n",
              "       [5.63387061e-03, 9.94366169e-01],\n",
              "       [3.76613834e-03, 9.96233881e-01],\n",
              "       [1.00000000e+00, 4.21490235e-13],\n",
              "       [4.43179347e-03, 9.95568216e-01],\n",
              "       [9.99742448e-01, 2.57499458e-04],\n",
              "       [1.00000000e+00, 1.90038749e-18],\n",
              "       [9.99258935e-01, 7.40997610e-04],\n",
              "       [2.98354775e-03, 9.97016430e-01],\n",
              "       [9.99956608e-01, 4.33593377e-05],\n",
              "       [4.83406894e-03, 9.95165944e-01],\n",
              "       [3.27891926e-03, 9.96721089e-01],\n",
              "       [9.99999523e-01, 4.40887050e-07],\n",
              "       [9.99983788e-01, 1.61711341e-05],\n",
              "       [1.45238009e-03, 9.98547614e-01],\n",
              "       [9.99982476e-01, 1.74670586e-05],\n",
              "       [9.99890447e-01, 1.09556626e-04],\n",
              "       [2.63283588e-03, 9.97367203e-01],\n",
              "       [5.63776400e-03, 9.94362235e-01],\n",
              "       [2.00234004e-03, 9.97997582e-01],\n",
              "       [2.00730741e-01, 7.99269259e-01],\n",
              "       [2.60749506e-03, 9.97392535e-01],\n",
              "       [9.99690175e-01, 3.09791270e-04],\n",
              "       [1.00000000e+00, 1.14907868e-10],\n",
              "       [8.01378861e-04, 9.99198616e-01],\n",
              "       [9.99959111e-01, 4.09002314e-05],\n",
              "       [9.99193132e-01, 8.06925585e-04],\n",
              "       [6.24953024e-03, 9.93750393e-01],\n",
              "       [2.61538639e-03, 9.97384608e-01],\n",
              "       [9.99994993e-01, 4.98011559e-06],\n",
              "       [1.00000000e+00, 9.33288711e-13],\n",
              "       [1.50132775e-01, 8.49867284e-01],\n",
              "       [9.93917406e-01, 6.08261116e-03],\n",
              "       [2.53717415e-03, 9.97462869e-01],\n",
              "       [8.12318735e-03, 9.91876841e-01],\n",
              "       [1.00000000e+00, 4.50596524e-14],\n",
              "       [9.99718130e-01, 2.81895365e-04],\n",
              "       [1.00000000e+00, 1.30327372e-11],\n",
              "       [9.99434650e-01, 5.65292896e-04],\n",
              "       [1.00000000e+00, 8.46159080e-13],\n",
              "       [1.53861968e-02, 9.84613776e-01],\n",
              "       [9.99997854e-01, 2.10237818e-06],\n",
              "       [9.99999285e-01, 7.27854854e-07],\n",
              "       [9.99926686e-01, 7.33158522e-05],\n",
              "       [1.62644766e-03, 9.98373508e-01],\n",
              "       [9.99959588e-01, 4.03823287e-05],\n",
              "       [9.96208310e-01, 3.79162654e-03],\n",
              "       [1.00000000e+00, 9.86189530e-09],\n",
              "       [2.62183021e-03, 9.97378230e-01],\n",
              "       [9.97817278e-01, 2.18274049e-03],\n",
              "       [1.41376918e-02, 9.85862315e-01],\n",
              "       [9.99980807e-01, 1.92242514e-05],\n",
              "       [2.94225896e-03, 9.97057796e-01],\n",
              "       [1.00000000e+00, 5.21773380e-08],\n",
              "       [9.99996662e-01, 3.38567475e-06],\n",
              "       [5.53433038e-02, 9.44656670e-01],\n",
              "       [2.80024251e-03, 9.97199774e-01],\n",
              "       [9.99779284e-01, 2.20757647e-04],\n",
              "       [2.95308799e-01, 7.04691172e-01],\n",
              "       [1.00000000e+00, 1.37167434e-23],\n",
              "       [2.43845233e-03, 9.97561574e-01],\n",
              "       [3.01017915e-03, 9.96989846e-01],\n",
              "       [2.54753814e-03, 9.97452438e-01],\n",
              "       [9.99999881e-01, 1.13448614e-07],\n",
              "       [3.32163507e-03, 9.96678352e-01],\n",
              "       [9.99998689e-01, 1.28943134e-06],\n",
              "       [9.99975920e-01, 2.40518439e-05],\n",
              "       [9.99722898e-01, 2.77099462e-04],\n",
              "       [9.99994755e-01, 5.28944656e-06],\n",
              "       [6.29484840e-03, 9.93705094e-01],\n",
              "       [9.95192766e-01, 4.80722869e-03],\n",
              "       [9.97876644e-01, 2.12334795e-03]], dtype=float32)"
            ]
          },
          "execution_count": 22,
          "metadata": {},
          "output_type": "execute_result"
        }
      ],
      "source": [
        "y_pred"
      ]
    },
    {
      "cell_type": "code",
      "execution_count": null,
      "metadata": {
        "id": "mgT8femLbh0-"
      },
      "outputs": [],
      "source": [
        "import numpy as np\n",
        "y_pred = np.argmax(y_pred, axis=1)"
      ]
    },
    {
      "cell_type": "code",
      "execution_count": null,
      "metadata": {
        "colab": {
          "base_uri": "https://localhost:8080/"
        },
        "id": "73qWVNPfbh0_",
        "outputId": "58751185-77c8-4d96-a673-cf9d33328a95"
      },
      "outputs": [
        {
          "data": {
            "text/plain": [
              "array([1, 0, 0, 0, 0, 1, 1, 1, 0, 1, 0, 1, 1, 0, 0, 0, 0, 0, 1, 0, 0, 1,\n",
              "       0, 1, 1, 1, 0, 0, 1, 0, 0, 0, 1, 0, 1, 0, 1, 1, 1, 1, 1, 0, 0, 0,\n",
              "       0, 0, 1, 1, 0, 1, 1, 1, 0, 0, 0, 0, 1, 1, 1, 1, 0, 0, 1, 1, 1, 0,\n",
              "       1, 0, 0, 0, 1, 0, 1, 1, 0, 0, 1, 0, 0, 1, 1, 1, 1, 1, 0, 0, 1, 0,\n",
              "       0, 1, 1, 0, 0, 1, 0, 1, 1, 0, 0, 0, 0, 0, 1, 0, 0, 0, 1, 0, 0, 0,\n",
              "       1, 0, 1, 0, 1, 0, 0, 1, 1, 0, 1, 0, 1, 1, 1, 0, 1, 0, 0, 0, 0, 1,\n",
              "       0, 0])"
            ]
          },
          "execution_count": 24,
          "metadata": {},
          "output_type": "execute_result"
        }
      ],
      "source": [
        "y_pred"
      ]
    },
    {
      "cell_type": "code",
      "execution_count": null,
      "metadata": {
        "id": "SL8CdXWwbh0_"
      },
      "outputs": [],
      "source": []
    },
    {
      "cell_type": "code",
      "execution_count": null,
      "metadata": {
        "id": "1M_Y2dtbbh0_"
      },
      "outputs": [],
      "source": [
        "from tensorflow.keras.models import load_model\n",
        "from tensorflow.keras.preprocessing import image"
      ]
    },
    {
      "cell_type": "code",
      "execution_count": null,
      "metadata": {
        "id": "UnO5bh2Gbh1A"
      },
      "outputs": [],
      "source": [
        "model=load_model('/content/drive/MyDrive/Dataset/my_model.h5')"
      ]
    },
    {
      "cell_type": "code",
      "execution_count": null,
      "metadata": {
        "id": "ABCHXHXBbh1A"
      },
      "outputs": [],
      "source": []
    },
    {
      "cell_type": "code",
      "execution_count": null,
      "metadata": {
        "id": "vg7YVeBNbh1A"
      },
      "outputs": [],
      "source": [
        "img=image.load_img('/content/drive/MyDrive/Dataset/Test/Uninfected/2.png',target_size=(224,224))\n",
        "\n"
      ]
    },
    {
      "cell_type": "code",
      "execution_count": null,
      "metadata": {
        "colab": {
          "base_uri": "https://localhost:8080/"
        },
        "id": "0-Qy6vj5bh1A",
        "outputId": "dfa5eb71-9a80-4c9a-a865-8a426c2e5d25"
      },
      "outputs": [
        {
          "data": {
            "text/plain": [
              "array([[[0., 0., 0.],\n",
              "        [0., 0., 0.],\n",
              "        [0., 0., 0.],\n",
              "        ...,\n",
              "        [0., 0., 0.],\n",
              "        [0., 0., 0.],\n",
              "        [0., 0., 0.]],\n",
              "\n",
              "       [[0., 0., 0.],\n",
              "        [0., 0., 0.],\n",
              "        [0., 0., 0.],\n",
              "        ...,\n",
              "        [0., 0., 0.],\n",
              "        [0., 0., 0.],\n",
              "        [0., 0., 0.]],\n",
              "\n",
              "       [[0., 0., 0.],\n",
              "        [0., 0., 0.],\n",
              "        [0., 0., 0.],\n",
              "        ...,\n",
              "        [0., 0., 0.],\n",
              "        [0., 0., 0.],\n",
              "        [0., 0., 0.]],\n",
              "\n",
              "       ...,\n",
              "\n",
              "       [[0., 0., 0.],\n",
              "        [0., 0., 0.],\n",
              "        [0., 0., 0.],\n",
              "        ...,\n",
              "        [0., 0., 0.],\n",
              "        [0., 0., 0.],\n",
              "        [0., 0., 0.]],\n",
              "\n",
              "       [[0., 0., 0.],\n",
              "        [0., 0., 0.],\n",
              "        [0., 0., 0.],\n",
              "        ...,\n",
              "        [0., 0., 0.],\n",
              "        [0., 0., 0.],\n",
              "        [0., 0., 0.]],\n",
              "\n",
              "       [[0., 0., 0.],\n",
              "        [0., 0., 0.],\n",
              "        [0., 0., 0.],\n",
              "        ...,\n",
              "        [0., 0., 0.],\n",
              "        [0., 0., 0.],\n",
              "        [0., 0., 0.]]], dtype=float32)"
            ]
          },
          "execution_count": 29,
          "metadata": {},
          "output_type": "execute_result"
        }
      ],
      "source": [
        "x=image.img_to_array(img)\n",
        "x"
      ]
    },
    {
      "cell_type": "code",
      "execution_count": null,
      "metadata": {
        "colab": {
          "base_uri": "https://localhost:8080/"
        },
        "id": "SuKlVHdsbh1B",
        "outputId": "81c6e5c0-a94c-4e6d-f814-e2b70563a2b9"
      },
      "outputs": [
        {
          "data": {
            "text/plain": [
              "(224, 224, 3)"
            ]
          },
          "execution_count": 30,
          "metadata": {},
          "output_type": "execute_result"
        }
      ],
      "source": [
        "x.shape"
      ]
    },
    {
      "cell_type": "code",
      "execution_count": null,
      "metadata": {
        "id": "xaps-z6Vbh1C"
      },
      "outputs": [],
      "source": [
        "x=x/255"
      ]
    },
    {
      "cell_type": "code",
      "execution_count": null,
      "metadata": {
        "colab": {
          "base_uri": "https://localhost:8080/"
        },
        "id": "o17CfWUlbh1C",
        "outputId": "b7fcad07-6937-4f71-f464-1b25c83fdc61"
      },
      "outputs": [
        {
          "data": {
            "text/plain": [
              "(1, 224, 224, 3)"
            ]
          },
          "execution_count": 32,
          "metadata": {},
          "output_type": "execute_result"
        }
      ],
      "source": [
        "x=np.expand_dims(x,axis=0)\n",
        "img_data=preprocess_input(x)\n",
        "img_data.shape"
      ]
    },
    {
      "cell_type": "code",
      "execution_count": null,
      "metadata": {
        "colab": {
          "base_uri": "https://localhost:8080/"
        },
        "id": "1JIwLZKEbh1D",
        "outputId": "afce2eb4-dbbc-4602-c4ba-36004e30fb6b"
      },
      "outputs": [
        {
          "name": "stdout",
          "output_type": "stream",
          "text": [
            "1/1 [==============================] - 0s 167ms/step\n"
          ]
        },
        {
          "data": {
            "text/plain": [
              "array([[1., 0.]], dtype=float32)"
            ]
          },
          "execution_count": 33,
          "metadata": {},
          "output_type": "execute_result"
        }
      ],
      "source": [
        "model.predict(img_data)"
      ]
    },
    {
      "cell_type": "code",
      "execution_count": null,
      "metadata": {
        "colab": {
          "base_uri": "https://localhost:8080/"
        },
        "id": "RhBT2pRGbh1D",
        "outputId": "2b145338-c203-4d27-fbb1-0390c0ebec17"
      },
      "outputs": [
        {
          "name": "stdout",
          "output_type": "stream",
          "text": [
            "1/1 [==============================] - 0s 19ms/step\n"
          ]
        }
      ],
      "source": [
        "a=np.argmax(model.predict(img_data), axis=1)"
      ]
    },
    {
      "cell_type": "code",
      "execution_count": null,
      "metadata": {
        "colab": {
          "base_uri": "https://localhost:8080/"
        },
        "id": "OTSeLy3Lbh1D",
        "outputId": "b093013f-6b40-4d13-979d-4cc0db12d9eb"
      },
      "outputs": [
        {
          "name": "stdout",
          "output_type": "stream",
          "text": [
            "Infected\n"
          ]
        }
      ],
      "source": [
        "if(a==1):\n",
        "    print(\"Uninfected\")\n",
        "else:\n",
        "    print(\"Infected\")"
      ]
    }
  ],
  "metadata": {
    "accelerator": "GPU",
    "colab": {
      "gpuType": "T4",
      "provenance": []
    },
    "kernelspec": {
      "display_name": "Python 3",
      "name": "python3"
    },
    "language_info": {
      "codemirror_mode": {
        "name": "ipython",
        "version": 3
      },
      "file_extension": ".py",
      "mimetype": "text/x-python",
      "name": "python",
      "nbconvert_exporter": "python",
      "pygments_lexer": "ipython3",
      "version": "3.7.4"
    }
  },
  "nbformat": 4,
  "nbformat_minor": 0
}
